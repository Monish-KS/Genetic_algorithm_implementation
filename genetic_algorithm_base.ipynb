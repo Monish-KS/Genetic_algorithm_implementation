{
 "cells": [
  {
   "cell_type": "code",
   "execution_count": 1,
   "metadata": {},
   "outputs": [],
   "source": [
    "from numpy.random import randint\n",
    "from numpy.random import rand\n",
    "import  math"
   ]
  },
  {
   "cell_type": "code",
   "execution_count": 2,
   "metadata": {},
   "outputs": [],
   "source": [
    "def objective(x):\n",
    "    y = math.exp(((x[0]-7)**2) + (x[1]-9)**2)\n",
    "    return y"
   ]
  },
  {
   "cell_type": "code",
   "execution_count": 3,
   "metadata": {},
   "outputs": [],
   "source": [
    "def decode(bounds, n_bits, bitstring):\n",
    "    decoded = []\n",
    "    largest = 2**n_bits\n",
    "    for i in range(len(bounds)):\n",
    "        start, end = i * n_bits, (i*n_bits)+n_bits\n",
    "        substring = bitstring[start:end]\n",
    "        chars = ''.join([str(s) for s in substring])\n",
    "        integer = int(chars,2)\n",
    "        value = bounds[i][0] + (integer/largest) * (bounds[i][1] - bounds[i][0])\n",
    "        decoded.append(value)\n",
    "    return decoded"
   ]
  },
  {
   "cell_type": "code",
   "execution_count": 4,
   "metadata": {},
   "outputs": [],
   "source": [
    "def selection(pop, scores, k = 3):\n",
    "    selection_ix = randint(len(pop))\n",
    "    for ix in randint(0, len(pop), k-1):\n",
    "        if scores[ix] < scores[selection_ix]:\n",
    "            selection_ix = ix\n",
    "\n",
    "    return pop[selection_ix]"
   ]
  },
  {
   "cell_type": "code",
   "execution_count": 5,
   "metadata": {},
   "outputs": [],
   "source": [
    "def crossover(p1, p2, r_cross):\n",
    "    c1, c2  = p1.copy(), p2.copy()\n",
    "    if rand() < r_cross:\n",
    "        pt = randint(1, len(p1)-2)\n",
    "        c1 = p1[:pt] + p2[pt:]\n",
    "        c2 = p2[:pt] + p1[pt:]\n",
    "    \n",
    "    return [c1,c2]\n"
   ]
  },
  {
   "cell_type": "code",
   "execution_count": 6,
   "metadata": {},
   "outputs": [],
   "source": [
    "def mutation(bitstring, r_mut):\n",
    "    rand = random.random\n",
    "    for i in range(len(bitstring)):\n",
    "        if rand() < r_mut:\n",
    "            bitstring[i] = 1 - bitstring[i]\n",
    "    return bitstring"
   ]
  },
  {
   "cell_type": "code",
   "execution_count": 12,
   "metadata": {},
   "outputs": [],
   "source": [
    "import random\n",
    "def genetic_algorithm(objective, bounds, n_bits, n_iter, n_pop, r_cross, r_mut):\n",
    "    pop = [randint(0,2, n_bits * len(bounds)).tolist() for _ in range(n_pop)]\n",
    "\n",
    "    best, best_eval = 0, objective(decode(bounds, n_bits, pop[0]))\n",
    "\n",
    "    for gen in range(n_iter):\n",
    "        decoded = [decode(bounds, n_bits, p) for p in pop]\n",
    "        scores = [objective(d) for d in decoded]\n",
    "\n",
    "        for i in range(n_pop):\n",
    "            if scores[i] < best_eval:\n",
    "                best, best_eval = pop[i] , scores[i]\n",
    "                print(\">%d, new best f(%s) = %f\" %(gen, decoded[i], scores[i]))\n",
    "        selected = [selection(pop, scores) for _ in range(n_pop)]\n",
    "\n",
    "        children = list()\n",
    "        for i in range(0, n_pop, 2):\n",
    "            p1, p2 = selected[i], selected[i+1]\n",
    "\n",
    "            for c in crossover(p1, p2, r_cross):\n",
    "                mutation(c, r_mut)\n",
    "                children.append(c)\n",
    "\n",
    "        pop = children\n",
    "    return [best, best_eval] "
   ]
  },
  {
   "cell_type": "code",
   "execution_count": 13,
   "metadata": {},
   "outputs": [
    {
     "name": "stdout",
     "output_type": "stream",
     "text": [
      ">0, new best f([9.4647216796875, 8.221435546875]) = 797.128237\n",
      ">0, new best f([7.87109375, 7.47894287109375]) = 21.594078\n",
      ">1, new best f([7.362060546875, 9.48944091796875]) = 1.448662\n",
      ">1, new best f([7.28729248046875, 9.2083740234375]) = 1.134233\n",
      ">2, new best f([7.28668212890625, 8.85894775390625]) = 1.107475\n",
      ">3, new best f([7.18963623046875, 9.2083740234375]) = 1.082617\n",
      ">4, new best f([7.18963623046875, 9.06585693359375]) = 1.041122\n",
      ">4, new best f([6.873779296875, 8.924560546875]) = 1.021858\n",
      ">5, new best f([6.873779296875, 8.92486572265625]) = 1.021811\n",
      ">6, new best f([7.069091796875, 8.939208984375]) = 1.008505\n",
      ">7, new best f([6.97509765625, 9.07012939453125]) = 1.005554\n",
      ">8, new best f([7.01416015625, 9.0716552734375]) = 1.005349\n",
      ">8, new best f([7.0147705078125, 9.07073974609375]) = 1.005236\n",
      ">9, new best f([6.959228515625, 9.05242919921875]) = 1.004421\n",
      ">10, new best f([6.959228515625, 9.03289794921875]) = 1.002748\n",
      ">11, new best f([7.01690673828125, 9.00177001953125]) = 1.000289\n",
      ">15, new best f([6.99310302734375, 9.0130615234375]) = 1.000218\n",
      ">15, new best f([6.998291015625, 9.00299072265625]) = 1.000012\n",
      ">16, new best f([6.998291015625, 9.00177001953125]) = 1.000006\n",
      ">22, new best f([7.0001220703125, 8.997802734375]) = 1.000005\n",
      ">23, new best f([7.00164794921875, 9.00115966796875]) = 1.000004\n",
      ">25, new best f([6.99920654296875, 9.00146484375]) = 1.000003\n",
      ">25, new best f([7.00042724609375, 9.00146484375]) = 1.000002\n",
      ">26, new best f([7.00042724609375, 8.9990234375]) = 1.000001\n",
      ">31, new best f([7.00042724609375, 9.000244140625]) = 1.000000\n",
      ">31, new best f([6.99981689453125, 8.9996337890625]) = 1.000000\n",
      ">34, new best f([6.99981689453125, 9.000244140625]) = 1.000000\n",
      ">45, new best f([6.99981689453125, 8.99993896484375]) = 1.000000\n",
      ">61, new best f([7.0001220703125, 8.99993896484375]) = 1.000000\n",
      "------------------------------------------------------------\n",
      "The result is ([7.0001220703125, 8.99993896484375]) with a score of 1.000000\n"
     ]
    }
   ],
   "source": [
    "bounds = [[-10.0, 10.0], [-10.0, 10.0]]\n",
    "\n",
    "n_iter = 100\n",
    "n_bits = 16\n",
    "n_pop = 100\n",
    "r_cross = 0.9\n",
    "r_mut = 1.0/(float(n_bits) * len(bounds))\n",
    "\n",
    "best, score = genetic_algorithm(objective, bounds, n_bits, n_iter, n_pop, r_cross, r_mut)\n",
    "print(\"------------------------------------------------------------\")\n",
    "decoded = decode(bounds, n_bits, best)\n",
    "print(\"The result is (%s) with a score of %f\" %(decoded, score))"
   ]
  },
  {
   "cell_type": "code",
   "execution_count": null,
   "metadata": {},
   "outputs": [],
   "source": []
  }
 ],
 "metadata": {
  "kernelspec": {
   "display_name": "Python 3",
   "language": "python",
   "name": "python3"
  },
  "language_info": {
   "codemirror_mode": {
    "name": "ipython",
    "version": 3
   },
   "file_extension": ".py",
   "mimetype": "text/x-python",
   "name": "python",
   "nbconvert_exporter": "python",
   "pygments_lexer": "ipython3",
   "version": "3.10.11"
  }
 },
 "nbformat": 4,
 "nbformat_minor": 2
}
